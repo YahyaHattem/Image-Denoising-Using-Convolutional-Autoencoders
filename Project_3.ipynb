{
  "nbformat": 4,
  "nbformat_minor": 0,
  "metadata": {
    "colab": {
      "provenance": [],
      "gpuType": "T4"
    },
    "kernelspec": {
      "name": "python3",
      "display_name": "Python 3"
    },
    "language_info": {
      "name": "python"
    },
    "accelerator": "GPU",
    "gpuClass": "standard"
  },
  "cells": [
    {
      "cell_type": "markdown",
      "metadata": {
        "id": "pZ8jaDWAdsaA"
      },
      "source": [
        "#Lab Objectives\n",
        "* Build an autoencoder model for image compression.\n",
        "\n"
      ]
    },
    {
      "cell_type": "code",
      "metadata": {
        "id": "SEKsQglZYGrI"
      },
      "source": [
        "%matplotlib inline\n",
        "\n",
        "import numpy as np\n",
        "import tensorflow as tf\n",
        "import matplotlib.pyplot as plt\n",
        "\n",
        "from keras.datasets import fashion_mnist\n",
        "import keras\n",
        "from tensorflow.keras.layers import Activation, Dense, Input\n",
        "from tensorflow.keras.layers import Conv2D, Flatten, MaxPooling2D\n",
        "from tensorflow.keras.layers import Reshape, Conv2DTranspose\n",
        "from tensorflow.keras.models import Model\n",
        "from tensorflow.keras import backend as K\n",
        "from tensorflow.keras.datasets import mnist\n",
        "import numpy as np\n",
        "import matplotlib.pyplot as plt\n",
        "from PIL import Image\n",
        "\n",
        "np.random.seed(1337)"
      ],
      "execution_count": null,
      "outputs": []
    },
    {
      "cell_type": "markdown",
      "metadata": {
        "id": "oZ-PcmeCpfoR"
      },
      "source": [
        "## Dataset\n",
        "\n",
        "We will use the [Fashion_Mnist] which contains 60,000 training images and 10,000 testing images.\n"
      ]
    },
    {
      "cell_type": "code",
      "metadata": {
        "id": "IxAy-M-IYGrS"
      },
      "source": [
        "\n",
        "(x_train, _), (x_test, _) = fashion_mnist.load_data()\n",
        "\n",
        "image_size = x_train.shape[1]\n",
        "x_train = np.reshape(x_train, [-1, image_size, image_size, 1])\n",
        "x_test = np.reshape(x_test, [-1, image_size, image_size, 1])\n",
        "\n",
        "## Normalize the data\n",
        "x_train = x_train.astype('float32') / 255\n",
        "x_test = x_test.astype('float32') / 255"
      ],
      "execution_count": null,
      "outputs": []
    },
    {
      "cell_type": "code",
      "metadata": {
        "colab": {
          "base_uri": "https://localhost:8080/"
        },
        "id": "rw-LaiYVJlL2",
        "outputId": "9a2bf139-99ca-4142-842a-cf61cf5f0aba"
      },
      "source": [
        "# summarize the shape of the dataset\n",
        "print('Train', x_train.shape)\n",
        "print('Test', x_test.shape)"
      ],
      "execution_count": null,
      "outputs": [
        {
          "output_type": "stream",
          "name": "stdout",
          "text": [
            "Train (60000, 28, 28, 1)\n",
            "Test (10000, 28, 28, 1)\n"
          ]
        }
      ]
    },
    {
      "cell_type": "code",
      "source": [
        "noise = np.random.normal(loc=0.5, scale=0.3, size=x_train.shape)\n",
        "x_train_noisy = x_train + noise\n",
        "noise = np.random.normal(loc=0.5, scale=0.3, size=x_test.shape)\n",
        "x_test_noisy = x_test + noise\n",
        "\n",
        "# Clip the images to be between 0 and 1\n",
        "x_train_noisy = np.clip(x_train_noisy, 0., 1.)\n",
        "x_test_noisy = np.clip(x_test_noisy, 0., 1.)"
      ],
      "metadata": {
        "id": "B3davOc1SK1y"
      },
      "execution_count": null,
      "outputs": []
    },
    {
      "cell_type": "markdown",
      "metadata": {
        "id": "HNfEtvGdYGrZ"
      },
      "source": [
        "Let's take a look at some of the data."
      ]
    },
    {
      "cell_type": "code",
      "source": [
        "input = Input(shape=(28, 28, 1), name='encoder_input')\n",
        "\n",
        "x = Conv2D(32, (3, 3), activation=\"relu\", padding=\"same\")(input)\n",
        "x = MaxPooling2D((2, 2), padding=\"same\")(x)\n",
        "x = Conv2D(32, (3, 3), activation=\"relu\", padding=\"same\")(x)\n",
        "encoded = MaxPooling2D((2, 2), padding=\"same\")(x)\n"
      ],
      "metadata": {
        "id": "bYM7Nm9QSNOi"
      },
      "execution_count": null,
      "outputs": []
    },
    {
      "cell_type": "code",
      "source": [
        "x = Conv2DTranspose(32, (3, 3), strides=2, activation=\"relu\", padding=\"same\")(encoded)\n",
        "x = Conv2DTranspose(32, (3, 3), strides=2, activation=\"relu\", padding=\"same\")(x)\n",
        "decoded = Conv2D(1, (3, 3), activation=\"sigmoid\", padding=\"same\")(x) # Why?"
      ],
      "metadata": {
        "id": "vedJvRlhSTAb"
      },
      "execution_count": null,
      "outputs": []
    },
    {
      "cell_type": "code",
      "source": [
        "autoencoder = Model(input, decoded)\n",
        "autoencoder.compile(optimizer=\"adam\", loss=\"binary_crossentropy\")\n",
        "autoencoder.summary()"
      ],
      "metadata": {
        "colab": {
          "base_uri": "https://localhost:8080/"
        },
        "id": "icwXAt_SSUX0",
        "outputId": "78f59f47-0797-4f45-8f56-6302620845a7"
      },
      "execution_count": null,
      "outputs": [
        {
          "output_type": "stream",
          "name": "stdout",
          "text": [
            "Model: \"model\"\n",
            "_________________________________________________________________\n",
            " Layer (type)                Output Shape              Param #   \n",
            "=================================================================\n",
            " encoder_input (InputLayer)  [(None, 28, 28, 1)]       0         \n",
            "                                                                 \n",
            " conv2d (Conv2D)             (None, 28, 28, 32)        320       \n",
            "                                                                 \n",
            " max_pooling2d (MaxPooling2D  (None, 14, 14, 32)       0         \n",
            " )                                                               \n",
            "                                                                 \n",
            " conv2d_1 (Conv2D)           (None, 14, 14, 32)        9248      \n",
            "                                                                 \n",
            " max_pooling2d_1 (MaxPooling  (None, 7, 7, 32)         0         \n",
            " 2D)                                                             \n",
            "                                                                 \n",
            " conv2d_transpose (Conv2DTra  (None, 14, 14, 32)       9248      \n",
            " nspose)                                                         \n",
            "                                                                 \n",
            " conv2d_transpose_1 (Conv2DT  (None, 28, 28, 32)       9248      \n",
            " ranspose)                                                       \n",
            "                                                                 \n",
            " conv2d_2 (Conv2D)           (None, 28, 28, 1)         289       \n",
            "                                                                 \n",
            "=================================================================\n",
            "Total params: 28,353\n",
            "Trainable params: 28,353\n",
            "Non-trainable params: 0\n",
            "_________________________________________________________________\n"
          ]
        }
      ]
    },
    {
      "cell_type": "code",
      "source": [
        "autoencoder.fit(x = x_train_noisy,\n",
        "                y = x_train,\n",
        "                validation_split = 0.2,\n",
        "                # validation_date = (x_test, x_test_noisy),\n",
        "                epochs=100,\n",
        "                shuffle = True,\n",
        "                batch_size=128)"
      ],
      "metadata": {
        "colab": {
          "base_uri": "https://localhost:8080/"
        },
        "id": "wgdoJ_4qSV9D",
        "outputId": "1bfa515a-b977-49c5-ab3d-483bd5c82871"
      },
      "execution_count": null,
      "outputs": [
        {
          "output_type": "stream",
          "name": "stdout",
          "text": [
            "Epoch 1/100\n",
            "375/375 [==============================] - 15s 9ms/step - loss: 0.3620 - val_loss: 0.3097\n",
            "Epoch 2/100\n",
            "375/375 [==============================] - 3s 9ms/step - loss: 0.3034 - val_loss: 0.3009\n",
            "Epoch 3/100\n",
            "375/375 [==============================] - 4s 11ms/step - loss: 0.2977 - val_loss: 0.2973\n",
            "Epoch 4/100\n",
            "375/375 [==============================] - 3s 8ms/step - loss: 0.2943 - val_loss: 0.2944\n",
            "Epoch 5/100\n",
            "375/375 [==============================] - 3s 7ms/step - loss: 0.2919 - val_loss: 0.2933\n",
            "Epoch 6/100\n",
            "375/375 [==============================] - 3s 9ms/step - loss: 0.2898 - val_loss: 0.2912\n",
            "Epoch 7/100\n",
            "375/375 [==============================] - 3s 8ms/step - loss: 0.2883 - val_loss: 0.2892\n",
            "Epoch 8/100\n",
            "375/375 [==============================] - 3s 7ms/step - loss: 0.2869 - val_loss: 0.2878\n",
            "Epoch 9/100\n",
            "375/375 [==============================] - 3s 8ms/step - loss: 0.2860 - val_loss: 0.2869\n",
            "Epoch 10/100\n",
            "375/375 [==============================] - 3s 8ms/step - loss: 0.2850 - val_loss: 0.2864\n",
            "Epoch 11/100\n",
            "375/375 [==============================] - 3s 8ms/step - loss: 0.2844 - val_loss: 0.2851\n",
            "Epoch 12/100\n",
            "375/375 [==============================] - 3s 8ms/step - loss: 0.2837 - val_loss: 0.2847\n",
            "Epoch 13/100\n",
            "375/375 [==============================] - 3s 8ms/step - loss: 0.2832 - val_loss: 0.2845\n",
            "Epoch 14/100\n",
            "375/375 [==============================] - 3s 7ms/step - loss: 0.2826 - val_loss: 0.2838\n",
            "Epoch 15/100\n",
            "375/375 [==============================] - 3s 9ms/step - loss: 0.2822 - val_loss: 0.2832\n",
            "Epoch 16/100\n",
            "375/375 [==============================] - 3s 8ms/step - loss: 0.2819 - val_loss: 0.2830\n",
            "Epoch 17/100\n",
            "375/375 [==============================] - 3s 7ms/step - loss: 0.2815 - val_loss: 0.2826\n",
            "Epoch 18/100\n",
            "375/375 [==============================] - 3s 8ms/step - loss: 0.2812 - val_loss: 0.2824\n",
            "Epoch 19/100\n",
            "375/375 [==============================] - 3s 9ms/step - loss: 0.2808 - val_loss: 0.2829\n",
            "Epoch 20/100\n",
            "375/375 [==============================] - 3s 8ms/step - loss: 0.2806 - val_loss: 0.2818\n",
            "Epoch 21/100\n",
            "375/375 [==============================] - 3s 7ms/step - loss: 0.2804 - val_loss: 0.2814\n",
            "Epoch 22/100\n",
            "375/375 [==============================] - 3s 8ms/step - loss: 0.2801 - val_loss: 0.2813\n",
            "Epoch 23/100\n",
            "375/375 [==============================] - 3s 8ms/step - loss: 0.2799 - val_loss: 0.2811\n",
            "Epoch 24/100\n",
            "375/375 [==============================] - 3s 7ms/step - loss: 0.2796 - val_loss: 0.2809\n",
            "Epoch 25/100\n",
            "375/375 [==============================] - 3s 8ms/step - loss: 0.2796 - val_loss: 0.2815\n",
            "Epoch 26/100\n",
            "375/375 [==============================] - 3s 8ms/step - loss: 0.2794 - val_loss: 0.2804\n",
            "Epoch 27/100\n",
            "375/375 [==============================] - 3s 8ms/step - loss: 0.2790 - val_loss: 0.2804\n",
            "Epoch 28/100\n",
            "375/375 [==============================] - 3s 8ms/step - loss: 0.2789 - val_loss: 0.2801\n",
            "Epoch 29/100\n",
            "375/375 [==============================] - 3s 8ms/step - loss: 0.2788 - val_loss: 0.2803\n",
            "Epoch 30/100\n",
            "375/375 [==============================] - 3s 7ms/step - loss: 0.2787 - val_loss: 0.2801\n",
            "Epoch 31/100\n",
            "375/375 [==============================] - 3s 9ms/step - loss: 0.2785 - val_loss: 0.2800\n",
            "Epoch 32/100\n",
            "375/375 [==============================] - 3s 8ms/step - loss: 0.2783 - val_loss: 0.2798\n",
            "Epoch 33/100\n",
            "375/375 [==============================] - 3s 8ms/step - loss: 0.2782 - val_loss: 0.2794\n",
            "Epoch 34/100\n",
            "375/375 [==============================] - 3s 7ms/step - loss: 0.2780 - val_loss: 0.2794\n",
            "Epoch 35/100\n",
            "375/375 [==============================] - 3s 8ms/step - loss: 0.2779 - val_loss: 0.2793\n",
            "Epoch 36/100\n",
            "375/375 [==============================] - 3s 8ms/step - loss: 0.2778 - val_loss: 0.2792\n",
            "Epoch 37/100\n",
            "375/375 [==============================] - 3s 8ms/step - loss: 0.2777 - val_loss: 0.2792\n",
            "Epoch 38/100\n",
            "375/375 [==============================] - 4s 10ms/step - loss: 0.2776 - val_loss: 0.2790\n",
            "Epoch 39/100\n",
            "375/375 [==============================] - 3s 8ms/step - loss: 0.2774 - val_loss: 0.2787\n",
            "Epoch 40/100\n",
            "375/375 [==============================] - 3s 8ms/step - loss: 0.2773 - val_loss: 0.2788\n",
            "Epoch 41/100\n",
            "375/375 [==============================] - 3s 8ms/step - loss: 0.2773 - val_loss: 0.2786\n",
            "Epoch 42/100\n",
            "375/375 [==============================] - 3s 7ms/step - loss: 0.2772 - val_loss: 0.2798\n",
            "Epoch 43/100\n",
            "375/375 [==============================] - 3s 8ms/step - loss: 0.2771 - val_loss: 0.2787\n",
            "Epoch 44/100\n",
            "375/375 [==============================] - 3s 7ms/step - loss: 0.2770 - val_loss: 0.2784\n",
            "Epoch 45/100\n",
            "375/375 [==============================] - 3s 7ms/step - loss: 0.2769 - val_loss: 0.2781\n",
            "Epoch 46/100\n",
            "375/375 [==============================] - 3s 8ms/step - loss: 0.2768 - val_loss: 0.2781\n",
            "Epoch 47/100\n",
            "375/375 [==============================] - 3s 8ms/step - loss: 0.2767 - val_loss: 0.2792\n",
            "Epoch 48/100\n",
            "375/375 [==============================] - 3s 8ms/step - loss: 0.2767 - val_loss: 0.2782\n",
            "Epoch 49/100\n",
            "375/375 [==============================] - 3s 8ms/step - loss: 0.2767 - val_loss: 0.2787\n",
            "Epoch 50/100\n",
            "375/375 [==============================] - 3s 7ms/step - loss: 0.2765 - val_loss: 0.2778\n",
            "Epoch 51/100\n",
            "375/375 [==============================] - 3s 8ms/step - loss: 0.2765 - val_loss: 0.2777\n",
            "Epoch 52/100\n",
            "375/375 [==============================] - 3s 8ms/step - loss: 0.2764 - val_loss: 0.2777\n",
            "Epoch 53/100\n",
            "375/375 [==============================] - 3s 7ms/step - loss: 0.2763 - val_loss: 0.2777\n",
            "Epoch 54/100\n",
            "375/375 [==============================] - 3s 7ms/step - loss: 0.2762 - val_loss: 0.2777\n",
            "Epoch 55/100\n",
            "375/375 [==============================] - 3s 8ms/step - loss: 0.2762 - val_loss: 0.2776\n",
            "Epoch 56/100\n",
            "375/375 [==============================] - 3s 9ms/step - loss: 0.2761 - val_loss: 0.2777\n",
            "Epoch 57/100\n",
            "375/375 [==============================] - 3s 8ms/step - loss: 0.2761 - val_loss: 0.2775\n",
            "Epoch 58/100\n",
            "375/375 [==============================] - 3s 7ms/step - loss: 0.2761 - val_loss: 0.2774\n",
            "Epoch 59/100\n",
            "375/375 [==============================] - 3s 8ms/step - loss: 0.2760 - val_loss: 0.2778\n",
            "Epoch 60/100\n",
            "375/375 [==============================] - 3s 8ms/step - loss: 0.2759 - val_loss: 0.2774\n",
            "Epoch 61/100\n",
            "375/375 [==============================] - 3s 8ms/step - loss: 0.2758 - val_loss: 0.2777\n",
            "Epoch 62/100\n",
            "375/375 [==============================] - 3s 7ms/step - loss: 0.2758 - val_loss: 0.2775\n",
            "Epoch 63/100\n",
            "375/375 [==============================] - 3s 7ms/step - loss: 0.2758 - val_loss: 0.2773\n",
            "Epoch 64/100\n",
            "375/375 [==============================] - 3s 8ms/step - loss: 0.2758 - val_loss: 0.2772\n",
            "Epoch 65/100\n",
            "375/375 [==============================] - 3s 8ms/step - loss: 0.2758 - val_loss: 0.2770\n",
            "Epoch 66/100\n",
            "375/375 [==============================] - 3s 7ms/step - loss: 0.2757 - val_loss: 0.2772\n",
            "Epoch 67/100\n",
            "375/375 [==============================] - 3s 8ms/step - loss: 0.2756 - val_loss: 0.2770\n",
            "Epoch 68/100\n",
            "375/375 [==============================] - 3s 8ms/step - loss: 0.2755 - val_loss: 0.2775\n",
            "Epoch 69/100\n",
            "375/375 [==============================] - 3s 8ms/step - loss: 0.2756 - val_loss: 0.2772\n",
            "Epoch 70/100\n",
            "375/375 [==============================] - 3s 8ms/step - loss: 0.2755 - val_loss: 0.2769\n",
            "Epoch 71/100\n",
            "375/375 [==============================] - 3s 7ms/step - loss: 0.2754 - val_loss: 0.2770\n",
            "Epoch 72/100\n",
            "375/375 [==============================] - 3s 9ms/step - loss: 0.2754 - val_loss: 0.2772\n",
            "Epoch 73/100\n",
            "375/375 [==============================] - 3s 8ms/step - loss: 0.2754 - val_loss: 0.2769\n",
            "Epoch 74/100\n",
            "375/375 [==============================] - 3s 7ms/step - loss: 0.2754 - val_loss: 0.2772\n",
            "Epoch 75/100\n",
            "375/375 [==============================] - 3s 7ms/step - loss: 0.2753 - val_loss: 0.2773\n",
            "Epoch 76/100\n",
            "375/375 [==============================] - 3s 7ms/step - loss: 0.2754 - val_loss: 0.2767\n",
            "Epoch 77/100\n",
            "375/375 [==============================] - 3s 8ms/step - loss: 0.2753 - val_loss: 0.2770\n",
            "Epoch 78/100\n",
            "375/375 [==============================] - 3s 7ms/step - loss: 0.2752 - val_loss: 0.2766\n",
            "Epoch 79/100\n",
            "375/375 [==============================] - 3s 7ms/step - loss: 0.2752 - val_loss: 0.2768\n",
            "Epoch 80/100\n",
            "375/375 [==============================] - 3s 8ms/step - loss: 0.2751 - val_loss: 0.2768\n",
            "Epoch 81/100\n",
            "375/375 [==============================] - 3s 8ms/step - loss: 0.2751 - val_loss: 0.2766\n",
            "Epoch 82/100\n",
            "375/375 [==============================] - 3s 7ms/step - loss: 0.2752 - val_loss: 0.2765\n",
            "Epoch 83/100\n",
            "375/375 [==============================] - 3s 7ms/step - loss: 0.2751 - val_loss: 0.2765\n",
            "Epoch 84/100\n",
            "375/375 [==============================] - 3s 7ms/step - loss: 0.2751 - val_loss: 0.2768\n",
            "Epoch 85/100\n",
            "375/375 [==============================] - 3s 8ms/step - loss: 0.2750 - val_loss: 0.2766\n",
            "Epoch 86/100\n",
            "375/375 [==============================] - 3s 9ms/step - loss: 0.2750 - val_loss: 0.2767\n",
            "Epoch 87/100\n",
            "375/375 [==============================] - 3s 8ms/step - loss: 0.2749 - val_loss: 0.2763\n",
            "Epoch 88/100\n",
            "375/375 [==============================] - 3s 8ms/step - loss: 0.2749 - val_loss: 0.2766\n",
            "Epoch 89/100\n",
            "375/375 [==============================] - 3s 8ms/step - loss: 0.2750 - val_loss: 0.2767\n",
            "Epoch 90/100\n",
            "375/375 [==============================] - 3s 8ms/step - loss: 0.2749 - val_loss: 0.2763\n",
            "Epoch 91/100\n",
            "375/375 [==============================] - 3s 7ms/step - loss: 0.2749 - val_loss: 0.2763\n",
            "Epoch 92/100\n",
            "375/375 [==============================] - 3s 8ms/step - loss: 0.2749 - val_loss: 0.2767\n",
            "Epoch 93/100\n",
            "375/375 [==============================] - 3s 8ms/step - loss: 0.2748 - val_loss: 0.2763\n",
            "Epoch 94/100\n",
            "375/375 [==============================] - 3s 8ms/step - loss: 0.2748 - val_loss: 0.2763\n",
            "Epoch 95/100\n",
            "375/375 [==============================] - 3s 7ms/step - loss: 0.2748 - val_loss: 0.2763\n",
            "Epoch 96/100\n",
            "375/375 [==============================] - 3s 8ms/step - loss: 0.2748 - val_loss: 0.2763\n",
            "Epoch 97/100\n",
            "375/375 [==============================] - 3s 7ms/step - loss: 0.2748 - val_loss: 0.2764\n",
            "Epoch 98/100\n",
            "375/375 [==============================] - 3s 8ms/step - loss: 0.2748 - val_loss: 0.2761\n",
            "Epoch 99/100\n",
            "375/375 [==============================] - 3s 8ms/step - loss: 0.2747 - val_loss: 0.2761\n",
            "Epoch 100/100\n",
            "375/375 [==============================] - 3s 8ms/step - loss: 0.2747 - val_loss: 0.2763\n"
          ]
        },
        {
          "output_type": "execute_result",
          "data": {
            "text/plain": [
              "<keras.callbacks.History at 0x7fd1e6835210>"
            ]
          },
          "metadata": {},
          "execution_count": 15
        }
      ]
    },
    {
      "cell_type": "code",
      "source": [
        "# Predict the Autoencoder output from corrupted test images\n",
        "x_decoded = autoencoder.predict(x_test_noisy)\n",
        "\n",
        "# Display the 1st 10 corrupted and denoised images\n",
        "rows, cols = 1, 10\n",
        "num = rows * cols\n",
        "imgs = np.concatenate([x_test[:num], x_test_noisy[:num], x_decoded[:num]])\n",
        "imgs = imgs.reshape((rows * 3, cols, image_size, image_size))\n",
        "imgs = np.vstack(np.split(imgs, rows, axis=1))\n",
        "imgs = imgs.reshape((rows * 3, -1, image_size, image_size))\n",
        "imgs = np.vstack([np.hstack(i) for i in imgs])\n",
        "imgs = (imgs * 255).astype(np.uint8)\n",
        "fig = plt.figure()\n",
        "fig.set_figheight(7)\n",
        "fig.set_figwidth(15)\n",
        "plt.axis('off')\n",
        "plt.title('Original images: top rows, '\n",
        "          'Corrupted Input: middle rows, '\n",
        "          'Denoised Input:  third rows')\n",
        "plt.imshow(imgs, interpolation='none', cmap='gray')\n",
        "Image.fromarray(imgs).save('corrupted_and_denoised.png')\n",
        "plt.show()"
      ],
      "metadata": {
        "colab": {
          "base_uri": "https://localhost:8080/",
          "height": 425
        },
        "id": "ha_I8EmeSZ-M",
        "outputId": "62a12623-fd3d-41b8-e69c-585b1efcaa55"
      },
      "execution_count": null,
      "outputs": [
        {
          "output_type": "stream",
          "name": "stdout",
          "text": [
            "313/313 [==============================] - 1s 2ms/step\n"
          ]
        },
        {
          "output_type": "display_data",
          "data": {
            "text/plain": [
              "<Figure size 1500x700 with 1 Axes>"
            ],
            "image/png": "[encoded data removed]"
          },
          "metadata": {}
        }
      ]
    }
  ]
}